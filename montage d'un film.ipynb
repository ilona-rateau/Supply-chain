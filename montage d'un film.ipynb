{
 "cells": [
  {
   "cell_type": "markdown",
   "metadata": {},
   "source": [
    "# Problème d'ordonnancement\n",
    "\n",
    "Le problème du montage d'un film s'apparente à un problème d'ordonnancement que nous tenterons de généraliser en premier temps.\n",
    "\n",
    "Le problème est le suivant : nous souhaitons trouver l'ordre optimal dans lequel effectuer des activités (appelées *__tâches__*). Cependant, ces activités nécessitent des *__prérequis__* c'est-à-dire que pour effectuer une activité, il est nécessaire d'en avoir effectuer une (ou plusieurs) autre(s) au préalable. Enfin, chaque activité nécessite une certaine *__durée__* (en nombre de jours) pour être effectuée mais également un temps *__d'attente__* entre la fin d'un prérequis et le début de cette tâche. Ces durées doivent être minimisées de sorte à ce que les activités soient réalisées le plus tôt possible.\n",
    "\n",
    "Ce problème peut être modélisé via un graphe avec chaque sommet représentant une tâche (assimilée à sa durée correspondante) et chaque arrête représentant un prérequis.\n",
    "\n",
    "\n",
    "Le dossier est composé :\n",
    "- d'une librairie visualisation (qui modèlise le problème)\n",
    "- d'une librairie résolution (qui résout le problème)\n",
    "- des tests des librairies\n",
    "- d'un fichier toml pour la gestion des dépendances\n",
    "- d'une interface en ligne de commande\n",
    "- d'un fichier README de présentation\n",
    "- d'une image png qui visualise le graphe associé au problème"
   ]
  },
  {
   "cell_type": "markdown",
   "metadata": {},
   "source": [
    "# Sujet 5 - Montage d'un film\n",
    "\n",
    "Nous devons proposer un planning optimal au producteur d'un film. Les contraintes sont les suivantes :"
   ]
  },
  {
   "cell_type": "markdown",
   "metadata": {},
   "source": [
    "\n",
    "| Tâche | Nature | Durée (Jours) | Prérequis (au plut tôt) |\n",
    "| --- | --- | --- | --- |\n",
    "| A | Ecriture du scénario | 30 | - |\n",
    "| B | Casting | 12 | fin A + 15j |\n",
    "|C|Choix du lieu de tournage|8|fin A + 20j|\n",
    "|D|Découpage technique|4|A et C finies|\n",
    "|E|Décors|7|C et D finies|\n",
    "|F|Tournages extérieurs|10|A,B,C et D finies|\n",
    "|G|Tournages intérieurs|12|D,E et F finies|\n",
    "|H|Synchronisation|3|F et G finies|\n",
    "|I|Montage|14|H finie|\n",
    "|J|Son|7|début I + 3j et fin H|\n",
    "|K|Mixage|6|I et J finies|\n",
    "|L|Tirage|1|fin K + 2j|"
   ]
  },
  {
   "cell_type": "markdown",
   "metadata": {},
   "source": [
    "Ce qui s'apparente à un problème d'ordonnancement comme vu lors de la séance 13.\n"
   ]
  },
  {
   "cell_type": "markdown",
   "metadata": {},
   "source": [
    "## Modélisation sous forme de dictionnaires"
   ]
  },
  {
   "cell_type": "code",
   "execution_count": 1,
   "metadata": {},
   "outputs": [],
   "source": [
    "#données avec prérequis\n",
    "donnees = {\n",
    "        \"A\": [], \n",
    "        \"B\": [\"A\"],\n",
    "        \"C\": [\"A\"],\n",
    "        \"D\": [\"A\", \"C\"],\n",
    "        \"E\": [\"C\",\"D\"],\n",
    "        \"F\": [\"A\",\"B\",\"C\",\"D\"],\n",
    "        \"G\": [\"D\", \"E\", \"F\"],\n",
    "        \"H\": [\"F\", \"G\"],\n",
    "        \"I\": [\"H\"],\n",
    "        \"J\": [\"H\"],\n",
    "        \"K\": [\"I\",\"J\"],\n",
    "        \"L\": [\"K\"],\n",
    "    }"
   ]
  },
  {
   "cell_type": "code",
   "execution_count": 2,
   "metadata": {},
   "outputs": [],
   "source": [
    "#donnees avec tâches, prérequis, attente et durée\n",
    "donnees2 = {\n",
    "        \"A\":([],30,0),\n",
    "        \"B\":([\"A\"],12,15),\n",
    "        \"C\":([\"A\"],8,20),\n",
    "        \"D\":([\"A\", \"C\"],4,0),\n",
    "        \"E\":([\"C\", \"D\"],7,0),\n",
    "        \"F\":([\"A\", \"B\",\"C\", \"D\"],10,0),\n",
    "        \"G\":([\"D\", \"E\", \"F\"],12,0),\n",
    "        \"H\":([\"F\", \"G\"],3,0),\n",
    "        \"I\":([\"H\"],14,0),\n",
    "        \"J\":([\"H\"],7,3),\n",
    "        \"K\":([\"I\",\"J\"],6,0),\n",
    "        \"L\":([\"K\"],1,2)}"
   ]
  },
  {
   "cell_type": "markdown",
   "metadata": {},
   "source": [
    "## Visualisation du problème"
   ]
  },
  {
   "cell_type": "code",
   "execution_count": 3,
   "metadata": {},
   "outputs": [],
   "source": [
    "import lib_ordonnancement"
   ]
  },
  {
   "cell_type": "markdown",
   "metadata": {},
   "source": [
    "Ce problème peut être visualisé sous forme d'un graphe. Chaque sommet rose représente une activité et les arrêtes (flêches rouges) représentent les prérequis."
   ]
  },
  {
   "cell_type": "code",
   "execution_count": 16,
   "metadata": {},
   "outputs": [
    {
     "data": {
      "image/png": "[encoded data removed]",
      "text/plain": [
       "<Figure size 432x288 with 1 Axes>"
      ]
     },
     "metadata": {},
     "output_type": "display_data"
    }
   ],
   "source": [
    "lib_ordonnancement.genere_graphe(donnees)"
   ]
  },
  {
   "cell_type": "markdown",
   "metadata": {},
   "source": [
    "Le problème peut également être visualisé sous forme de tableau en ajoutant cette fois la durée et l'attente :"
   ]
  },
  {
   "cell_type": "code",
   "execution_count": 6,
   "metadata": {},
   "outputs": [
    {
     "data": {
      "text/html": [
       "<pre style=\"white-space:pre;overflow-x:auto;line-height:normal;font-family:Menlo,'DejaVu Sans Mono',consolas,'Courier New',monospace\">┏━━━━━━━┳━━━━━━━━━━━┳━━━━━━━┳━━━━━━━━━┓\n",
       "┃<span style=\"font-weight: bold\"> Tâche </span>┃<span style=\"font-weight: bold\"> Prérequis </span>┃<span style=\"font-weight: bold\"> Durée </span>┃<span style=\"font-weight: bold\"> Attente </span>┃\n",
       "┡━━━━━━━╇━━━━━━━━━━━╇━━━━━━━╇━━━━━━━━━┩\n",
       "│ A     │           │ 30    │ 0       │\n",
       "│ B     │ A         │ 12    │ 15      │\n",
       "│ C     │ A         │ 8     │ 20      │\n",
       "│ D     │ A C       │ 4     │ 0       │\n",
       "│ E     │ C D       │ 7     │ 0       │\n",
       "│ F     │ A B C D   │ 10    │ 0       │\n",
       "│ G     │ D E F     │ 12    │ 0       │\n",
       "│ H     │ F G       │ 3     │ 0       │\n",
       "│ I     │ H         │ 14    │ 0       │\n",
       "│ J     │ H         │ 7     │ 3       │\n",
       "│ K     │ I J       │ 6     │ 0       │\n",
       "│ L     │ K         │ 1     │ 2       │\n",
       "└───────┴───────────┴───────┴─────────┘\n",
       "</pre>\n"
      ],
      "text/plain": [
       "┏━━━━━━━┳━━━━━━━━━━━┳━━━━━━━┳━━━━━━━━━┓\n",
       "┃\u001b[1m \u001b[0m\u001b[1mTâche\u001b[0m\u001b[1m \u001b[0m┃\u001b[1m \u001b[0m\u001b[1mPrérequis\u001b[0m\u001b[1m \u001b[0m┃\u001b[1m \u001b[0m\u001b[1mDurée\u001b[0m\u001b[1m \u001b[0m┃\u001b[1m \u001b[0m\u001b[1mAttente\u001b[0m\u001b[1m \u001b[0m┃\n",
       "┡━━━━━━━╇━━━━━━━━━━━╇━━━━━━━╇━━━━━━━━━┩\n",
       "│ A     │           │ 30    │ 0       │\n",
       "│ B     │ A         │ 12    │ 15      │\n",
       "│ C     │ A         │ 8     │ 20      │\n",
       "│ D     │ A C       │ 4     │ 0       │\n",
       "│ E     │ C D       │ 7     │ 0       │\n",
       "│ F     │ A B C D   │ 10    │ 0       │\n",
       "│ G     │ D E F     │ 12    │ 0       │\n",
       "│ H     │ F G       │ 3     │ 0       │\n",
       "│ I     │ H         │ 14    │ 0       │\n",
       "│ J     │ H         │ 7     │ 3       │\n",
       "│ K     │ I J       │ 6     │ 0       │\n",
       "│ L     │ K         │ 1     │ 2       │\n",
       "└───────┴───────────┴───────┴─────────┘\n"
      ]
     },
     "execution_count": 6,
     "metadata": {},
     "output_type": "execute_result"
    }
   ],
   "source": [
    "lib_ordonnancement.cdc_to_table(donnees2)"
   ]
  },
  {
   "cell_type": "markdown",
   "metadata": {},
   "source": [
    "En respectant les prérequis, toutes les possibilités d'ordonnancement sont les suivantes :"
   ]
  },
  {
   "cell_type": "code",
   "execution_count": 4,
   "metadata": {},
   "outputs": [
    {
     "name": "stdout",
     "output_type": "stream",
     "text": [
      "['A', 'B', 'C', 'D', 'E', 'F', 'G', 'H', 'I', 'J', 'K', 'L']\n",
      "['A', 'B', 'C', 'D', 'E', 'F', 'G', 'H', 'J', 'I', 'K', 'L']\n",
      "['A', 'B', 'C', 'D', 'F', 'E', 'G', 'H', 'I', 'J', 'K', 'L']\n",
      "['A', 'B', 'C', 'D', 'F', 'E', 'G', 'H', 'J', 'I', 'K', 'L']\n",
      "['A', 'C', 'B', 'D', 'E', 'F', 'G', 'H', 'I', 'J', 'K', 'L']\n",
      "['A', 'C', 'B', 'D', 'E', 'F', 'G', 'H', 'J', 'I', 'K', 'L']\n",
      "['A', 'C', 'B', 'D', 'F', 'E', 'G', 'H', 'I', 'J', 'K', 'L']\n",
      "['A', 'C', 'B', 'D', 'F', 'E', 'G', 'H', 'J', 'I', 'K', 'L']\n",
      "['A', 'C', 'D', 'B', 'E', 'F', 'G', 'H', 'I', 'J', 'K', 'L']\n",
      "['A', 'C', 'D', 'B', 'E', 'F', 'G', 'H', 'J', 'I', 'K', 'L']\n",
      "['A', 'C', 'D', 'B', 'F', 'E', 'G', 'H', 'I', 'J', 'K', 'L']\n",
      "['A', 'C', 'D', 'B', 'F', 'E', 'G', 'H', 'J', 'I', 'K', 'L']\n",
      "['A', 'C', 'D', 'E', 'B', 'F', 'G', 'H', 'I', 'J', 'K', 'L']\n",
      "['A', 'C', 'D', 'E', 'B', 'F', 'G', 'H', 'J', 'I', 'K', 'L']\n"
     ]
    }
   ],
   "source": [
    "for ordre in lib_ordonnancement.genere_ordres(donnees):\n",
    "    print(ordre)"
   ]
  },
  {
   "cell_type": "markdown",
   "metadata": {},
   "source": [
    "## Résolution du problème"
   ]
  },
  {
   "cell_type": "markdown",
   "metadata": {},
   "source": [
    "Nous commencons par rechercher le ou les activité(s) qui ne nécessite(nt) pas de prérequis grâce à la fonction `_cherche_sans_prerequis` :"
   ]
  },
  {
   "cell_type": "code",
   "execution_count": 4,
   "metadata": {},
   "outputs": [
    {
     "data": {
      "text/plain": [
       "['A']"
      ]
     },
     "execution_count": 4,
     "metadata": {},
     "output_type": "execute_result"
    }
   ],
   "source": [
    "lib_ordonnancement._cherche_sans_prerequis(donnees)"
   ]
  },
  {
   "cell_type": "markdown",
   "metadata": {},
   "source": [
    "Seul l'activité A ne détient pas de prérequis nécessaire. Le montage du film débutera donc par l'activité A : écriture du scénario.\n",
    "\n",
    "L'ordre optimal dans lesquels effectuer les tâches est le suivant :"
   ]
  },
  {
   "cell_type": "code",
   "execution_count": 6,
   "metadata": {},
   "outputs": [
    {
     "data": {
      "text/plain": [
       "['A', 'B', 'C', 'D', 'E', 'F', 'G', 'H', 'I', 'J', 'K', 'L']"
      ]
     },
     "execution_count": 6,
     "metadata": {},
     "output_type": "execute_result"
    }
   ],
   "source": [
    "lib_ordonnancement.ordonnance(donnees)"
   ]
  },
  {
   "cell_type": "markdown",
   "metadata": {},
   "source": [
    "Nous stockons la solution du problème dans un objet `solution` trouvée grâce à la fonction `edt_parallele` :"
   ]
  },
  {
   "cell_type": "code",
   "execution_count": 10,
   "metadata": {},
   "outputs": [],
   "source": [
    "solution=lib_ordonnancement.edt_parallele(donnees2)"
   ]
  },
  {
   "cell_type": "markdown",
   "metadata": {},
   "source": [
    "Puis nous visualisons la solution du problème sous forme d'un tableau récapitulatif avec les jours de début et de fin grâce à la fonction `edt_to_table` :"
   ]
  },
  {
   "cell_type": "code",
   "execution_count": 11,
   "metadata": {},
   "outputs": [
    {
     "data": {
      "text/html": [
       "<pre style=\"white-space:pre;overflow-x:auto;line-height:normal;font-family:Menlo,'DejaVu Sans Mono',consolas,'Courier New',monospace\">┏━━━━━━━┳━━━━━━━┳━━━━━┓\n",
       "┃<span style=\"font-weight: bold\"> Tâche </span>┃<span style=\"font-weight: bold\"> Debut </span>┃<span style=\"font-weight: bold\"> Fin </span>┃\n",
       "┡━━━━━━━╇━━━━━━━╇━━━━━┩\n",
       "│ A     │ 0     │ 30  │\n",
       "│ B     │ 45    │ 57  │\n",
       "│ C     │ 50    │ 58  │\n",
       "│ D     │ 58    │ 62  │\n",
       "│ E     │ 62    │ 69  │\n",
       "│ F     │ 62    │ 72  │\n",
       "│ G     │ 72    │ 84  │\n",
       "│ H     │ 84    │ 87  │\n",
       "│ I     │ 87    │ 101 │\n",
       "│ J     │ 90    │ 97  │\n",
       "│ K     │ 101   │ 107 │\n",
       "│ L     │ 109   │ 110 │\n",
       "└───────┴───────┴─────┘\n",
       "</pre>\n"
      ],
      "text/plain": [
       "┏━━━━━━━┳━━━━━━━┳━━━━━┓\n",
       "┃\u001b[1m \u001b[0m\u001b[1mTâche\u001b[0m\u001b[1m \u001b[0m┃\u001b[1m \u001b[0m\u001b[1mDebut\u001b[0m\u001b[1m \u001b[0m┃\u001b[1m \u001b[0m\u001b[1mFin\u001b[0m\u001b[1m \u001b[0m┃\n",
       "┡━━━━━━━╇━━━━━━━╇━━━━━┩\n",
       "│ A     │ 0     │ 30  │\n",
       "│ B     │ 45    │ 57  │\n",
       "│ C     │ 50    │ 58  │\n",
       "│ D     │ 58    │ 62  │\n",
       "│ E     │ 62    │ 69  │\n",
       "│ F     │ 62    │ 72  │\n",
       "│ G     │ 72    │ 84  │\n",
       "│ H     │ 84    │ 87  │\n",
       "│ I     │ 87    │ 101 │\n",
       "│ J     │ 90    │ 97  │\n",
       "│ K     │ 101   │ 107 │\n",
       "│ L     │ 109   │ 110 │\n",
       "└───────┴───────┴─────┘\n"
      ]
     },
     "execution_count": 11,
     "metadata": {},
     "output_type": "execute_result"
    }
   ],
   "source": [
    "lib_ordonnancement.edt_to_table(solution)"
   ]
  },
  {
   "cell_type": "markdown",
   "metadata": {},
   "source": [
    "Le montage du film se fera donc en 110 jours minimum. "
   ]
  }
 ],
 "metadata": {
  "interpreter": {
   "hash": "eeaa74170af185b5e243244e5b712ccc21c8dfaf451f07899ec1c2ada19ca68f"
  },
  "kernelspec": {
   "display_name": "Python 3 (ipykernel)",
   "language": "python",
   "name": "python3"
  },
  "language_info": {
   "codemirror_mode": {
    "name": "ipython",
    "version": 3
   },
   "file_extension": ".py",
   "mimetype": "text/x-python",
   "name": "python",
   "nbconvert_exporter": "python",
   "pygments_lexer": "ipython3",
   "version": "3.8.12"
  }
 },
 "nbformat": 4,
 "nbformat_minor": 4
}
